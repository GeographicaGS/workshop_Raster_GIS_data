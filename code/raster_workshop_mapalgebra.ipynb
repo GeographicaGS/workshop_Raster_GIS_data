{
 "cells": [
  {
   "cell_type": "markdown",
   "metadata": {},
   "source": [
    "### Map algebra with Rasterio and Numpy"
   ]
  },
  {
   "cell_type": "code",
   "execution_count": 1,
   "metadata": {
    "collapsed": true
   },
   "outputs": [],
   "source": [
    "import rasterio"
   ]
  },
  {
   "cell_type": "code",
   "execution_count": 2,
   "metadata": {
    "collapsed": true
   },
   "outputs": [],
   "source": [
    "dst_file = '/tmp/out_mapalgebra.tif'\n",
    "src_file01 = '/home/cayetano/Dropbox/documentos/python/GIS/workshop_RasterGIS_data/data/temp_gfs/tmp_2m_k_20150903.tif'\n",
    "src_file02 = '/home/cayetano/Dropbox/documentos/python/GIS/workshop_RasterGIS_data/data/temp_gfs/tmp_80m_k_20150903.tif'"
   ]
  },
  {
   "cell_type": "code",
   "execution_count": 4,
   "metadata": {
    "collapsed": false
   },
   "outputs": [
    {
     "name": "stdout",
     "output_type": "stream",
     "text": [
      "(1, 204.15001, 314.55002)\n"
     ]
    }
   ],
   "source": [
    "with rasterio.open(src_file01) as src:\n",
    "    for i in src.indexes:\n",
    "        band = src.read(i)\n",
    "        print(i, band.min(), band.max())"
   ]
  },
  {
   "cell_type": "code",
   "execution_count": 5,
   "metadata": {
    "collapsed": false
   },
   "outputs": [
    {
     "name": "stdout",
     "output_type": "stream",
     "text": [
      "<type 'numpy.ndarray'>\n",
      "((721, 1440), 2, 1038240)\n",
      "[[ 270.55001831  270.55001831  270.55001831 ...,  270.55001831\n",
      "   270.55001831  270.55001831]\n",
      " [ 270.55001831  270.55001831  270.55001831 ...,  270.55001831\n",
      "   270.55001831  270.55001831]\n",
      " [ 270.55001831  270.55001831  270.55001831 ...,  270.55001831\n",
      "   270.55001831  270.55001831]\n",
      " ..., \n",
      " [ 218.55000305  218.55000305  218.55000305 ...,  218.55000305\n",
      "   218.55000305  218.55000305]\n",
      " [ 219.3500061   219.3500061   219.3500061  ...,  219.3500061   219.3500061\n",
      "   219.3500061 ]\n",
      " [ 219.75001526  219.75001526  219.75001526 ...,  219.75001526\n",
      "   219.75001526  219.75001526]]\n"
     ]
    }
   ],
   "source": [
    "with rasterio.open(src_file01) as src:\n",
    "    for i in src.indexes:\n",
    "        band = src.read(i)\n",
    "        print(type(band))\n",
    "        print(band.shape, band.ndim, band.size)\n",
    "        print(band)"
   ]
  },
  {
   "cell_type": "code",
   "execution_count": 6,
   "metadata": {
    "collapsed": false
   },
   "outputs": [
    {
     "name": "stdout",
     "output_type": "stream",
     "text": [
      "[[ 270.55001831  270.55001831  270.55001831 ...,  270.55001831\n",
      "   270.55001831  270.55001831]\n",
      " [ 270.55001831  270.55001831  270.55001831 ...,  270.55001831\n",
      "   270.55001831  270.55001831]\n",
      " [ 270.55001831  270.55001831  270.55001831 ...,  270.55001831\n",
      "   270.55001831  270.55001831]\n",
      " ..., \n",
      " [ 218.55000305  218.55000305  218.55000305 ...,  218.55000305\n",
      "   218.55000305  218.55000305]\n",
      " [ 219.3500061   219.3500061   219.3500061  ...,  219.3500061   219.3500061\n",
      "   219.3500061 ]\n",
      " [ 219.75001526  219.75001526  219.75001526 ...,  219.75001526\n",
      "   219.75001526  219.75001526]]\n",
      "[[ 269.8500061   269.8500061   269.8500061  ...,  269.8500061   269.8500061\n",
      "   269.8500061 ]\n",
      " [ 269.95001221  269.95001221  269.95001221 ...,  269.95001221\n",
      "   269.95001221  269.95001221]\n",
      " [ 269.95001221  269.95001221  270.05001831 ...,  269.95001221\n",
      "   269.95001221  269.95001221]\n",
      " ..., \n",
      " [ 218.25001526  218.25001526  218.25001526 ...,  218.25001526\n",
      "   218.25001526  218.25001526]\n",
      " [ 218.95001221  218.95001221  218.95001221 ...,  218.95001221\n",
      "   218.95001221  218.95001221]\n",
      " [ 219.45001221  219.45001221  219.45001221 ...,  219.45001221\n",
      "   219.45001221  219.45001221]]\n"
     ]
    }
   ],
   "source": [
    "with rasterio.open(src_file01) as src01:\n",
    "    with rasterio.open(src_file02) as src02:\n",
    "        for i in src01.indexes:\n",
    "            band_src01 = src01.read(i)\n",
    "            print(band_src01)\n",
    "        for i in src02.indexes:\n",
    "            band_src02 = src02.read(i)\n",
    "            print(band_src02)"
   ]
  },
  {
   "cell_type": "code",
   "execution_count": 7,
   "metadata": {
    "collapsed": false
   },
   "outputs": [
    {
     "name": "stdout",
     "output_type": "stream",
     "text": [
      "[[ 0.70001221  0.70001221  0.70001221 ...,  0.70001221  0.70001221\n",
      "   0.70001221]\n",
      " [ 0.6000061   0.6000061   0.6000061  ...,  0.6000061   0.6000061\n",
      "   0.6000061 ]\n",
      " [ 0.6000061   0.6000061   0.5        ...,  0.6000061   0.6000061\n",
      "   0.6000061 ]\n",
      " ..., \n",
      " [ 0.29998779  0.29998779  0.29998779 ...,  0.29998779  0.29998779\n",
      "   0.29998779]\n",
      " [ 0.3999939   0.3999939   0.3999939  ...,  0.3999939   0.3999939\n",
      "   0.3999939 ]\n",
      " [ 0.30000305  0.30000305  0.30000305 ...,  0.30000305  0.30000305\n",
      "   0.30000305]]\n"
     ]
    }
   ],
   "source": [
    "with rasterio.open(src_file01) as src01:\n",
    "    with rasterio.open(src_file02) as src02:\n",
    "        for i in src01.indexes:\n",
    "            band_src01 = src01.read(i)\n",
    "        for i in src02.indexes:\n",
    "            band_src02 = src02.read(i)\n",
    "        res = (band_src01 -273.15) - (band_src02 -273.15)\n",
    "        print(res)"
   ]
  },
  {
   "cell_type": "code",
   "execution_count": 10,
   "metadata": {
    "collapsed": false
   },
   "outputs": [],
   "source": [
    "with rasterio.open(src_file01) as src01:\n",
    "    with rasterio.open(src_file02) as src02:\n",
    "        for i in src01.indexes:\n",
    "            band_src01 = src01.read(i)\n",
    "        for i in src02.indexes:\n",
    "            band_src02 = src02.read(i)\n",
    "        res = (band_src01 -273.15) - (band_src02 -273.15)\n",
    "        kwargs = src.meta\n",
    "        with rasterio.open(dst_file, 'w', **kwargs) as dst:\n",
    "            dst.write_band(1, res)"
   ]
  },
  {
   "cell_type": "code",
   "execution_count": null,
   "metadata": {
    "collapsed": true
   },
   "outputs": [],
   "source": []
  }
 ],
 "metadata": {
  "kernelspec": {
   "display_name": "Python 2",
   "language": "python",
   "name": "python2"
  },
  "language_info": {
   "codemirror_mode": {
    "name": "ipython",
    "version": 2
   },
   "file_extension": ".py",
   "mimetype": "text/x-python",
   "name": "python",
   "nbconvert_exporter": "python",
   "pygments_lexer": "ipython2",
   "version": "2.7.6"
  }
 },
 "nbformat": 4,
 "nbformat_minor": 0
}
