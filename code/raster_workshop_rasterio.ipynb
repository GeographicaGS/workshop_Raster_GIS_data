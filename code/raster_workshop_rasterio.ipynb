{
 "cells": [
  {
   "cell_type": "markdown",
   "metadata": {},
   "source": [
    "### Reading and writing raster data with Rasterio (Translating)"
   ]
  },
  {
   "cell_type": "code",
   "execution_count": 1,
   "metadata": {
    "collapsed": true
   },
   "outputs": [],
   "source": [
    "import rasterio"
   ]
  },
  {
   "cell_type": "code",
   "execution_count": 9,
   "metadata": {
    "collapsed": true
   },
   "outputs": [],
   "source": [
    "input_file=\"/home/cayetano/Dropbox/documentos/python/GIS/workshop_RasterGIS_data/data/raster_out/example_data\"\n",
    "out_tif_file = \"/tmp/out.tif\""
   ]
  },
  {
   "cell_type": "code",
   "execution_count": 10,
   "metadata": {
    "collapsed": false
   },
   "outputs": [],
   "source": [
    "with rasterio.drivers():\n",
    "    rasterio.copy(input_file, out_tif_file, driver='GTiff')"
   ]
  },
  {
   "cell_type": "markdown",
   "metadata": {},
   "source": [
    "Reading raster data and printing basic metadata:"
   ]
  },
  {
   "cell_type": "code",
   "execution_count": 12,
   "metadata": {
    "collapsed": false
   },
   "outputs": [
    {
     "name": "stdout",
     "output_type": "stream",
     "text": [
      "(1440, 721)\n",
      "{u'a': 6367470, u'no_defs': True, u'b': 6367470, u'proj': u'longlat'}\n",
      "| 0.25, 0.00,-180.12|\n",
      "| 0.00,-0.25, 90.12|\n",
      "| 0.00, 0.00, 1.00|\n",
      "1\n",
      "[1]\n"
     ]
    }
   ],
   "source": [
    "with rasterio.drivers():\n",
    "    with rasterio.open(input_file) as src:\n",
    "        print(src.width, src.height)\n",
    "        print(src.crs)\n",
    "        print(src.affine)\n",
    "        print(src.count)\n",
    "        print(src.indexes)"
   ]
  },
  {
   "cell_type": "markdown",
   "metadata": {},
   "source": [
    "In the above result we can see affine transformation matrix which is described below:\n",
    "```\n",
    "a: Scale X \n",
    "e: Scale Y\n",
    "d: Rotation X\n",
    "b: Rotation Y\n",
    "c: Translation X\n",
    "f: Translation Y\n",
    "\n",
    "| x' |   | a b c | | x |\n",
    "| y' | = | d e f | | y |\n",
    "| 1  |   | 0 0 1 | | 1 |\n",
    "```\n",
    "More info:\n",
    "https://github.com/sgillies/affine"
   ]
  }
 ],
 "metadata": {
  "kernelspec": {
   "display_name": "Python 2",
   "language": "python",
   "name": "python2"
  },
  "language_info": {
   "codemirror_mode": {
    "name": "ipython",
    "version": 2
   },
   "file_extension": ".py",
   "mimetype": "text/x-python",
   "name": "python",
   "nbconvert_exporter": "python",
   "pygments_lexer": "ipython2",
   "version": "2.7.6"
  }
 },
 "nbformat": 4,
 "nbformat_minor": 0
}
